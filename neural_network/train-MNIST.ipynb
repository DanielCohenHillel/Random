{
 "cells": [
  {
   "cell_type": "markdown",
   "metadata": {
    "Collapsed": "false"
   },
   "source": [
    "### 👉 Imports"
   ]
  },
  {
   "cell_type": "code",
   "execution_count": 273,
   "metadata": {
    "Collapsed": "false"
   },
   "outputs": [],
   "source": [
    "import csv\n",
    "import numpy as np\n",
    "import matplotlib.pyplot as plt\n",
    "plt.style.use('seaborn-pastel')"
   ]
  },
  {
   "cell_type": "markdown",
   "metadata": {
    "Collapsed": "false"
   },
   "source": [
    "### 👉 Utility functions 🔨"
   ]
  },
  {
   "cell_type": "code",
   "execution_count": 2,
   "metadata": {
    "Collapsed": "false"
   },
   "outputs": [],
   "source": [
    "def to_vec(x):\n",
    "    a = np.zeros([10,1])\n",
    "    a[int(x)] = 1.0\n",
    "    return a\n",
    "def sig(x):\n",
    "    return 1/(1 + np.exp(-x))\n",
    "def arcsig(x):\n",
    "    return -np.log(1/x - 1)"
   ]
  },
  {
   "cell_type": "markdown",
   "metadata": {
    "Collapsed": "false"
   },
   "source": [
    "### 👉 Load data 📊"
   ]
  },
  {
   "cell_type": "code",
   "execution_count": 3,
   "metadata": {
    "Collapsed": "false"
   },
   "outputs": [
    {
     "name": "stdout",
     "output_type": "stream",
     "text": [
      "except\n"
     ]
    }
   ],
   "source": [
    "data = []\n",
    "with open('images\\\\mnist_train.csv') as csv_file:\n",
    "    csv_reader = csv.reader(csv_file, delimiter=',')\n",
    "    i = 0\n",
    "    for row in csv_reader:\n",
    "        try:\n",
    "            label = np.float64(row.pop(0))\n",
    "            image = np.array([row], dtype=np.float64).T\n",
    "            data.append({\n",
    "                \"label\": to_vec(label),\n",
    "                \"image\": image/255\n",
    "            })\n",
    "        except:\n",
    "            print(\"except\")\n",
    "            continue;"
   ]
  },
  {
   "cell_type": "markdown",
   "metadata": {
    "Collapsed": "false"
   },
   "source": [
    "### 👉 Setup neural network 🧠"
   ]
  },
  {
   "cell_type": "code",
   "execution_count": 143,
   "metadata": {
    "Collapsed": "false"
   },
   "outputs": [],
   "source": [
    "import importlib\n",
    "import network\n",
    "importlib.reload(network);"
   ]
  },
  {
   "cell_type": "code",
   "execution_count": 144,
   "metadata": {
    "Collapsed": "false"
   },
   "outputs": [],
   "source": [
    "net = network.network([784, 16, 16, 10])"
   ]
  },
  {
   "cell_type": "markdown",
   "metadata": {
    "Collapsed": "false"
   },
   "source": [
    "## 👉 Train❗"
   ]
  },
  {
   "cell_type": "code",
   "execution_count": 145,
   "metadata": {
    "Collapsed": "false"
   },
   "outputs": [
    {
     "name": "stdout",
     "output_type": "stream",
     "text": [
      "👉 Batch  111999 / 111999 \n",
      "[🟩🟩🟩🟩🟩🟩🟩🟩🟩🟩🟩🟩🟩🟩🟩🟩🟩🟩🟩🟩🟩🟩🟩🟩🟩🟩🟩🟩🟩🟩🟩🟩🟩🟩🟩🟩🟩🟩🟩🟩🟩🟩🟩🟩🟩🟩🟩🟩🟩🟩🟩🟩🟩🟩🟩🟩]\n"
     ]
    }
   ],
   "source": [
    "params = net.grad_descent(data, batch_num=1000, batch_size=1024, learning_rate=0.01)"
   ]
  },
  {
   "cell_type": "markdown",
   "metadata": {
    "Collapsed": "false"
   },
   "source": [
    "### 👉 Check success rate ✔"
   ]
  },
  {
   "cell_type": "code",
   "execution_count": 262,
   "metadata": {
    "Collapsed": "false"
   },
   "outputs": [
    {
     "name": "stdout",
     "output_type": "stream",
     "text": [
      "✅ Correct:      42422 times\n",
      "❌ Wrong:        17578 times.\n",
      "📈 Sucsses rate: 70.70%\n"
     ]
    }
   ],
   "source": [
    "success_num = 0\n",
    "for item in data:\n",
    "    image   = item['image']\n",
    "    label   = item['label']\n",
    "    \n",
    "    result  = net.run(image)\n",
    "    \n",
    "    res_num = np.argmax(result)\n",
    "    lbl_num = np.argmax(label)\n",
    "    if res_num==lbl_num:\n",
    "        success_num += 1\n",
    "print(f'✅ Correct:      {suc} times\\n❌ Wrong:        {rep-suc} times.\\n📈 Sucsses rate: {str((suc/rep)*100)[:5]}%')"
   ]
  },
  {
   "cell_type": "markdown",
   "metadata": {
    "Collapsed": "false"
   },
   "source": [
    "### 👉 Results examples"
   ]
  },
  {
   "cell_type": "code",
   "execution_count": 279,
   "metadata": {
    "Collapsed": "false"
   },
   "outputs": [
    {
     "name": "stdout",
     "output_type": "stream",
     "text": [
      "👉 Guessed: 3 ❗\n",
      "👉 Correct: 3 ❗\n",
      "\n",
      "🟩🟩🟩🟩🟩🟩🟩🟩🟩🟩🟩🟩🟩🟩🟩\n",
      "🟩🟩🟩  YOU GOT IT RIGHT💖  🟩🟩🟩\n",
      "🟩🟩🟩🟩🟩🟩🟩🟩🟩🟩🟩🟩🟩🟩🟩\n",
      "\n",
      "🎲 Percentages:\n",
      "  🔹0 --> 3.53%\n",
      "  🔹1 --> 14.8%\n",
      "  🔹2 --> 3.17%\n",
      "  🔹3 --> 82.8%\n",
      "  🔹4 --> 0.66%\n",
      "  🔹5 --> 16.0%\n",
      "  🔹6 --> 1.33%\n",
      "  🔹7 --> 1.39%\n",
      "  🔹8 --> 7.93%\n",
      "  🔹9 --> 0.81%\n",
      "\n",
      "📷 Image:\n"
     ]
    },
    {
     "data": {
      "image/png": "[encoded data removed]",
      "text/plain": [
       "<Figure size 432x288 with 1 Axes>"
      ]
     },
     "metadata": {
      "needs_background": "light"
     },
     "output_type": "display_data"
    }
   ],
   "source": [
    "ind = 12\n",
    "\n",
    "img = data[ind]['image']*255\n",
    "lbl = data[ind]['label']\n",
    "\n",
    "res = net.run(img)\n",
    "\n",
    "print(f'👉 Guessed: {np.argmax(res)} ❗')\n",
    "print(f'👉 Correct: {np.argmax(lbl)} ❗')\n",
    "\n",
    "if np.abs(np.argmax(res) - np.argmax(lbl)) < 0.1:\n",
    "    print('\\n🟩🟩🟩🟩🟩🟩🟩🟩🟩🟩🟩🟩🟩🟩🟩')\n",
    "    print('🟩🟩🟩  YOU GOT IT RIGHT💖  🟩🟩🟩')\n",
    "    print('🟩🟩🟩🟩🟩🟩🟩🟩🟩🟩🟩🟩🟩🟩🟩\\n')\n",
    "    suc += 1\n",
    "else:\n",
    "    print('❌✖❌✖❌✖❌✖❌✖❌✖❌✖❌✖❌✖❌')\n",
    "    print('❌✖❌✖  YOU GOT IT WRONG😥  ✖❌✖❌')\n",
    "    print('❌✖❌✖❌✖❌✖❌✖❌✖❌✖❌✖❌✖❌\\n')\n",
    "\n",
    "precents = np.ndarray(10)\n",
    "print('🎲 Percentages:')\n",
    "for i, val in enumerate(res):\n",
    "    precents[i] = val[0]*100\n",
    "    print(f'  🔹{i} --> {str(precents[i])[0:4]}%')\n",
    "    \n",
    "print('\\n📷 Image:')\n",
    "plt.imshow(np.reshape(img, [28,28]));"
   ]
  },
  {
   "cell_type": "code",
   "execution_count": 277,
   "metadata": {
    "Collapsed": "false"
   },
   "outputs": [
    {
     "data": {
      "image/png": "[encoded data removed]",
      "text/plain": [
       "<Figure size 432x288 with 1 Axes>"
      ]
     },
     "metadata": {
      "needs_background": "light"
     },
     "output_type": "display_data"
    }
   ],
   "source": [
    "plt.title(\"Number Guess Strength\")\n",
    "plt.xlabel(\"Number\")\n",
    "plt.ylabel(\"Guess Strength %\")\n",
    "plt.plot(precents, 'o--');"
   ]
  },
  {
   "cell_type": "markdown",
   "metadata": {
    "Collapsed": "false"
   },
   "source": [
    "### 👉 Save parameters to file 📂"
   ]
  },
  {
   "cell_type": "markdown",
   "metadata": {
    "Collapsed": "false"
   },
   "source": [
    "**csv**"
   ]
  },
  {
   "cell_type": "code",
   "execution_count": 167,
   "metadata": {
    "Collapsed": "false"
   },
   "outputs": [],
   "source": [
    "import csv\n",
    "\n",
    "w = csv.writer(open(\"params.csv\", \"w\"))\n",
    "for key, val in params.items():\n",
    "    w.writerow([key, val])"
   ]
  },
  {
   "cell_type": "markdown",
   "metadata": {
    "Collapsed": "false"
   },
   "source": [
    "**pickle**"
   ]
  },
  {
   "cell_type": "code",
   "execution_count": 280,
   "metadata": {
    "Collapsed": "false"
   },
   "outputs": [],
   "source": [
    "import pickle\n",
    "\n",
    "f = open(r'data\\params.pkl',\"wb\")\n",
    "pickle.dump(params,f)\n",
    "f.close()"
   ]
  },
  {
   "cell_type": "code",
   "execution_count": null,
   "metadata": {},
   "outputs": [],
   "source": []
  }
 ],
 "metadata": {
  "kernelspec": {
   "display_name": "Python 3",
   "language": "python",
   "name": "python3"
  },
  "language_info": {
   "codemirror_mode": {
    "name": "ipython",
    "version": 3
   },
   "file_extension": ".py",
   "mimetype": "text/x-python",
   "name": "python",
   "nbconvert_exporter": "python",
   "pygments_lexer": "ipython3",
   "version": "3.7.6"
  }
 },
 "nbformat": 4,
 "nbformat_minor": 4
}
